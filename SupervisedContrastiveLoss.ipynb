{
 "cells": [
  {
   "cell_type": "markdown",
   "metadata": {},
   "source": [
    "## Approach: CNN + MLP (Trained with Supervised Contrastive Learning)"
   ]
  },
  {
   "cell_type": "code",
   "execution_count": 1,
   "metadata": {},
   "outputs": [],
   "source": [
    "#Import All libraries \n",
    "import torch\n",
    "from torchvision import datasets, transforms\n",
    "from torch.utils.data import DataLoader, random_split\n",
    "import optuna\n",
    "import torch.nn as nn\n",
    "import torch.nn.functional as F\n",
    "from pytorch_metric_learning.losses import SupConLoss\n",
    "from pytorch_metric_learning.utils.accuracy_calculator import AccuracyCalculator\n",
    "from sklearn.model_selection import train_test_split\n",
    "import matplotlib.pyplot as plt\n",
    "from sklearn.metrics import roc_auc_score, roc_curve, confusion_matrix, ConfusionMatrixDisplay\n",
    "import numpy as np\n",
    "from torchsummary import summary"
   ]
  },
  {
   "cell_type": "code",
   "execution_count": 2,
   "metadata": {},
   "outputs": [],
   "source": [
    "#Perfom the transformations necessary \n",
    "transform = transforms.Compose([\n",
    "    transforms.ToTensor(),                     #Transform the image into a tensor \n",
    "    transforms.Normalize((0.1307,), (0.3081,)) #Normalize the data\n",
    "])\n",
    "\n",
    "# Load the MNIST Dataset\n",
    "full_train_data = datasets.MNIST(root=\".\\MNIST\\MNIST_Train\", train=True, download=False, transform = transform)\n",
    "test_data = datasets.MNIST(root=\".\\MNIST\\MNIST_Test\", train=False, download=False, transform = transform)\n",
    "\n",
    "# This seed is used to make sure the same split will happen for all approaches\n",
    "torch.manual_seed(42)  \n",
    "\n",
    "# Defining the sets that are going to be used for training and Gridsearch\n",
    "train_data = int(0.7 * len(full_train_data))  # 70% for training\n",
    "train_gridsearch = len(full_train_data) - train_data # 30% for gridsearch\n",
    "\n",
    "# Get the training sets \n",
    "train_data, train_gridsearch = random_split(full_train_data, [train_data, train_gridsearch])\n",
    "\n",
    "# Split the training datasets, one for the training of the CNN and one for the training of the MLP \n",
    "train_CNN = int(0.6 * len(train_data))\n",
    "train_MLP = len(train_data) - train_CNN\n",
    "train_CNN, train_MLP = random_split(train_data, [train_CNN, train_MLP])\n",
    "\n",
    "# Make the Training and Validation split of the train_gridsearch set\n",
    "train_gridsearch2 = int(0.8 * len(train_gridsearch))\n",
    "validation_gridsearch = len(train_gridsearch) - train_gridsearch2\n",
    "train_gridsearch2, validation_gridsearch = random_split(train_gridsearch, [train_gridsearch2, validation_gridsearch])\n",
    "\n",
    "# Make the split of the train_gridsearch2 for the CNN and the MLP\n",
    "train_gridsearch2_CNN = int(0.6 * len(train_gridsearch2))\n",
    "train_gridsearch2_MLP = len(train_gridsearch2) - train_gridsearch2_CNN\n",
    "train_gridsearch2_CNN, train_gridsearch2_MLP = random_split(train_gridsearch2, [train_gridsearch2_CNN, train_gridsearch2_MLP])\n",
    "\n",
    "# the device specifies where the tensor or model should be stored and computations should be performed\n",
    "device = torch.device(\"cuda\" if torch.cuda.is_available() else \"cpu\")"
   ]
  },
  {
   "cell_type": "code",
   "execution_count": 3,
   "metadata": {},
   "outputs": [],
   "source": [
    "class CNNEncoder(nn.Module): #Encoder as we're only interest in the final embedding provided by the CNN \n",
    "    def __init__(self):\n",
    "        super(CNNEncoder, self).__init__()\n",
    "        self.conv1 = nn.Conv2d(1, 32, kernel_size=3, stride=1, padding=1)\n",
    "        self.conv2 = nn.Conv2d(32, 64, kernel_size=3, stride=1, padding=1)\n",
    "        self.pool = nn.MaxPool2d(2, 2)\n",
    "        self.dropout1 = nn.Dropout(p=0.3) #Dropout\n",
    "        self.conv3 = nn.Conv2d(64, 128, kernel_size=3, stride=1, padding=1)\n",
    "        self.conv4 = nn.Conv2d(128, 256, kernel_size=3, stride=1, padding=1)\n",
    "        self.fc = nn.Linear(256 * 7 * 7, 128)  # Output: 128-dimension embeddings\n",
    "\n",
    "    def forward(self, x):\n",
    "        x = F.relu(self.conv1(x))\n",
    "        x = F.relu(self.conv2(x))\n",
    "        x = self.pool(x)  # 14x14\n",
    "        \n",
    "        x = self.dropout1(F.relu(self.conv3(x))) #Adding Dropout\n",
    "        x = F.relu(self.conv4(x))\n",
    "        x = self.pool(x)  # 7x7\n",
    "        \n",
    "        x = x.view(-1, 256 * 7 * 7)  # Flatten\n",
    "        x = self.fc(x)  # Output embeddings\n",
    "        \n",
    "         # Normalize embeddings to lie on unit hypersphere\n",
    "        x = F.normalize(x, p=2, dim=1)  # L2 normalization\n",
    "        \n",
    "        return x\n",
    "\n",
    "class MLPClassifier(nn.Module): # MLP projection Head \n",
    "    def __init__(self):\n",
    "        super(MLPClassifier, self).__init__()\n",
    "        self.dropout2 = nn.Dropout(p=0.3) #Dropout\n",
    "        self.fc1 = nn.Linear(128, 64)\n",
    "        self.fc2 = nn.Linear(64, 10)\n",
    "\n",
    "    def forward(self, x):\n",
    "        x = self.dropout2(F.relu(self.fc1(x))) #Adding Dropout\n",
    "        x = self.fc2(x)\n",
    "        return x"
   ]
  },
  {
   "cell_type": "code",
   "execution_count": 4,
   "metadata": {},
   "outputs": [],
   "source": [
    "# Initialize accuracy calculator\n",
    "#accuracy_calculator = AccuracyCalculator(include=(\"precision_at_1\",), knn_func=None)\n",
    "class ContrastiveTrainer:\n",
    "    def __init__(self, encoder, classifier, criterion, optimizer):\n",
    "        self.encoder = encoder\n",
    "        self.classifier = classifier\n",
    "        self.criterion = criterion\n",
    "        self.optimizer = optimizer\n",
    "\n",
    "    def train_contrastive(self, train_loader, epochs):\n",
    "        self.encoder.train()\n",
    "        for epoch in range(epochs):\n",
    "            total_loss = 0\n",
    "            for images, labels in train_loader:\n",
    "                images, labels = images.to(device), labels.to(device)\n",
    "                self.optimizer.zero_grad()\n",
    "\n",
    "                # Forward pass through the encoder\n",
    "                features = self.encoder(images)\n",
    "\n",
    "                # Compute supervised contrastive loss\n",
    "                loss = self.criterion(features, labels)\n",
    "                loss.backward()\n",
    "                self.optimizer.step()\n",
    "                \n",
    "                total_loss += loss.item()\n",
    "            print(f'Epoch [{epoch + 1}/{epochs}], Contrastive Loss: {total_loss / len(train_loader):.4f}')\n",
    "    \n",
    "    def train_classifier(self, train_loader, epochs):\n",
    "        self.encoder.eval()  # Freeze the encoder for classifier training\n",
    "        self.classifier.train()\n",
    "        \n",
    "        for epoch in range(epochs):\n",
    "            total_loss = 0\n",
    "            correct = 0\n",
    "            for images, labels in train_loader:\n",
    "                images, labels = images.to(device), labels.to(device)\n",
    "                self.optimizer.zero_grad()\n",
    "\n",
    "                # Extract frozen features\n",
    "                with torch.no_grad():\n",
    "                    features = self.encoder(images)\n",
    "\n",
    "                # Forward pass through the classifier\n",
    "                outputs = self.classifier(features)\n",
    "                loss = F.cross_entropy(outputs, labels)\n",
    "                loss.backward()\n",
    "                self.optimizer.step()\n",
    "\n",
    "                total_loss += loss.item()\n",
    "                _, predicted = torch.max(outputs, 1)\n",
    "                correct += (predicted == labels).sum().item()\n",
    "\n",
    "            accuracy = correct / len(train_loader.dataset)\n",
    "            print(f'Epoch [{epoch + 1}/{epochs}], Cross Entropy Loss: {total_loss / len(train_loader):.4f}, Accuracy: {accuracy * 100:.2f}%')\n",
    "\n",
    "    def test_classifier(self, test_loader, num_classes=10):\n",
    "        self.encoder.eval()\n",
    "        self.classifier.eval()\n",
    "        \n",
    "        # Variables to store predictions and true labels for AUC/ROC/Confusion Matrix\n",
    "        all_probs = []\n",
    "        all_labels = []\n",
    "        all_preds = []\n",
    "        \n",
    "        correct = 0\n",
    "        total = 0\n",
    "        \n",
    "        with torch.no_grad():\n",
    "            for images, labels in test_loader:\n",
    "                images, labels = images.to(device), labels.to(device)\n",
    "                \n",
    "                # Get features and outputs\n",
    "                features = self.encoder(images)\n",
    "                outputs = self.classifier(features)\n",
    "                \n",
    "                # Convert logits to probabilities using softmax\n",
    "                probs = F.softmax(outputs, dim=1)\n",
    "                \n",
    "                # Record the true labels and predicted probabilities\n",
    "                all_labels.append(labels.cpu().numpy())\n",
    "                all_probs.append(probs.cpu().numpy())\n",
    "                \n",
    "                # Get predicted class from the output (class with max probability)\n",
    "                _, predicted = torch.max(outputs, 1)\n",
    "                all_preds.append(predicted.cpu().numpy())\n",
    "                \n",
    "                total += labels.size(0)\n",
    "                correct += (predicted == labels).sum().item()\n",
    "        \n",
    "        # Flatten the collected lists\n",
    "        all_labels = np.concatenate(all_labels)\n",
    "        all_probs = np.concatenate(all_probs)\n",
    "        all_preds = np.concatenate(all_preds)\n",
    "        # Calculate test accuracy\n",
    "        accuracy = 100 * correct / total\n",
    "        print(f'Test Accuracy: {accuracy:.2f}%')\n",
    "        \n",
    "        # --- ROC and AUC computation ---\n",
    "        # One-hot encode the labels\n",
    "        labels_one_hot = np.eye(num_classes)[all_labels]\n",
    "\n",
    "        # Compute ROC and AUC for each class\n",
    "        roc_auc = {}\n",
    "        for i in range(num_classes):\n",
    "            fpr, tpr, _ = roc_curve(labels_one_hot[:, i], all_probs[:, i])\n",
    "            auc = roc_auc_score(labels_one_hot[:, i], all_probs[:, i])\n",
    "            roc_auc[f'Class {i}'] = auc\n",
    "            print(f'Class {i} AUC: {auc:.4f}')\n",
    "            \n",
    "        # Plot the ROC curve for each class\n",
    "        plt.plot(fpr, tpr, label=f'Class {i} (AUC = {auc:.2f})')\n",
    "        \n",
    "        plt.xlabel('False Positive Rate')\n",
    "        plt.ylabel('True Positive Rate')\n",
    "        plt.title('ROC Curve')\n",
    "        plt.legend(loc='lower right')\n",
    "        plt.show()\n",
    "        \n",
    "        # Overall macro AUC score\n",
    "        overall_auc = roc_auc_score(labels_one_hot, all_probs, average='macro')\n",
    "        print(f'Overall AUC (macro): {overall_auc:.4f}')\n",
    "        \n",
    "        # --- Confusion Matrix ---\n",
    "        # Compute confusion matrix\n",
    "        conf_matrix = confusion_matrix(all_labels, all_preds)\n",
    "        \n",
    "        # Plot confusion matrix\n",
    "        disp = ConfusionMatrixDisplay(confusion_matrix=conf_matrix, display_labels=range(num_classes))\n",
    "        disp.plot(cmap=plt.cm.Blues)\n",
    "        plt.title('Confusion Matrix')\n",
    "        plt.show()"
   ]
  },
  {
   "cell_type": "code",
   "execution_count": 5,
   "metadata": {},
   "outputs": [],
   "source": [
    "# Hyperparameter tuning with Optuna\n",
    "def objective(trial):\n",
    "\n",
    "    # Hyperparameters to tune\n",
    "    lr = trial.suggest_float('lr', 1e-5, 1e-2, log=True)\n",
    "    batch_size = trial.suggest_int('batch_size', 32, 128, step=32)\n",
    "    \n",
    "    # Create data loaders\n",
    "    train_gridsearch2_CNN_loader = DataLoader(train_gridsearch2_CNN, batch_size=batch_size, shuffle=True)\n",
    "    train_gridsearch2_MLP_loader = DataLoader(train_gridsearch2_MLP, batch_size=batch_size, shuffle=True)\n",
    "    validation_gridsearch_loader = DataLoader(validation_gridsearch, batch_size=batch_size, shuffle=False)\n",
    "\n",
    "\n",
    "    encoder = CNNEncoder().to(device)\n",
    "    classifier = MLPClassifier().to(device)\n",
    "    optimizer = torch.optim.Adam(list(encoder.parameters()) + list(classifier.parameters()), lr=lr)\n",
    "    contrastive_loss = SupConLoss().to(device)\n",
    "    \n",
    "    trainer = ContrastiveTrainer(encoder, classifier, contrastive_loss, optimizer)\n",
    "    \n",
    "    # Train the model\n",
    "    trainer.train_contrastive(train_gridsearch2_CNN_loader, epochs=5)  # Train for fewer epochs for tuning speed\n",
    "    trainer.train_classifier(train_gridsearch2_MLP_loader, epochs=3)\n",
    "    \n",
    "    # Evaluate on validation data\n",
    "    correct = 0\n",
    "    total = 0\n",
    "    with torch.no_grad():\n",
    "        for images, labels in validation_gridsearch_loader:\n",
    "            images, labels = images.to(device), labels.to(device)\n",
    "            features = encoder(images)\n",
    "            outputs = classifier(features)\n",
    "            _, predicted = torch.max(outputs, 1)\n",
    "            total += labels.size(0)\n",
    "            correct += (predicted == labels).sum().item()\n",
    "\n",
    "    accuracy = correct / total\n",
    "    return accuracy"
   ]
  },
  {
   "cell_type": "code",
   "execution_count": 6,
   "metadata": {},
   "outputs": [
    {
     "name": "stderr",
     "output_type": "stream",
     "text": [
      "[I 2024-10-27 08:47:27,176] A new study created in memory with name: Hyperparameter_Tunning\n"
     ]
    },
    {
     "name": "stdout",
     "output_type": "stream",
     "text": [
      "Epoch [1/5], Contrastive Loss: 3.0349\n",
      "Epoch [2/5], Contrastive Loss: 2.5861\n",
      "Epoch [3/5], Contrastive Loss: 2.4820\n",
      "Epoch [4/5], Contrastive Loss: 2.4284\n",
      "Epoch [5/5], Contrastive Loss: 2.3851\n",
      "Epoch [1/3], Cross Entropy Loss: 2.2804, Accuracy: 17.19%\n",
      "Epoch [2/3], Cross Entropy Loss: 2.2301, Accuracy: 39.90%\n",
      "Epoch [3/3], Cross Entropy Loss: 2.1657, Accuracy: 65.03%\n"
     ]
    },
    {
     "name": "stderr",
     "output_type": "stream",
     "text": [
      "[I 2024-10-27 09:00:23,975] Trial 0 finished with value: 0.7497222222222222 and parameters: {'lr': 0.00010889082037526256, 'batch_size': 96}. Best is trial 0 with value: 0.7497222222222222.\n"
     ]
    },
    {
     "name": "stdout",
     "output_type": "stream",
     "text": [
      "Epoch [1/5], Contrastive Loss: 3.8042\n",
      "Epoch [2/5], Contrastive Loss: 3.3573\n",
      "Epoch [3/5], Contrastive Loss: 3.1555\n",
      "Epoch [4/5], Contrastive Loss: 3.0491\n",
      "Epoch [5/5], Contrastive Loss: 2.9771\n",
      "Epoch [1/3], Cross Entropy Loss: 2.3026, Accuracy: 5.28%\n",
      "Epoch [2/3], Cross Entropy Loss: 2.2986, Accuracy: 7.17%\n",
      "Epoch [3/3], Cross Entropy Loss: 2.2940, Accuracy: 8.30%\n"
     ]
    },
    {
     "name": "stderr",
     "output_type": "stream",
     "text": [
      "[I 2024-10-27 09:10:32,983] Trial 1 finished with value: 0.08638888888888889 and parameters: {'lr': 1.5419973429468206e-05, 'batch_size': 128}. Best is trial 0 with value: 0.7497222222222222.\n"
     ]
    },
    {
     "name": "stdout",
     "output_type": "stream",
     "text": [
      "Epoch [1/5], Contrastive Loss: 3.1465\n",
      "Epoch [2/5], Contrastive Loss: 2.6856\n",
      "Epoch [3/5], Contrastive Loss: 2.5797\n",
      "Epoch [4/5], Contrastive Loss: 2.5134\n",
      "Epoch [5/5], Contrastive Loss: 2.4722\n",
      "Epoch [1/3], Cross Entropy Loss: 2.2999, Accuracy: 11.42%\n",
      "Epoch [2/3], Cross Entropy Loss: 2.2837, Accuracy: 15.24%\n",
      "Epoch [3/3], Cross Entropy Loss: 2.2646, Accuracy: 20.36%\n"
     ]
    },
    {
     "name": "stderr",
     "output_type": "stream",
     "text": [
      "[I 2024-10-27 09:20:46,288] Trial 2 finished with value: 0.23555555555555555 and parameters: {'lr': 4.4353578436781926e-05, 'batch_size': 96}. Best is trial 0 with value: 0.7497222222222222.\n"
     ]
    },
    {
     "name": "stdout",
     "output_type": "stream",
     "text": [
      "Epoch [1/5], Contrastive Loss: 2.9417\n",
      "Epoch [2/5], Contrastive Loss: 2.4966\n",
      "Epoch [3/5], Contrastive Loss: 2.3970\n",
      "Epoch [4/5], Contrastive Loss: 2.3474\n",
      "Epoch [5/5], Contrastive Loss: 2.3177\n",
      "Epoch [1/3], Cross Entropy Loss: 1.5055, Accuracy: 77.17%\n",
      "Epoch [2/3], Cross Entropy Loss: 0.3569, Accuracy: 94.27%\n",
      "Epoch [3/3], Cross Entropy Loss: 0.2014, Accuracy: 95.10%\n"
     ]
    },
    {
     "name": "stderr",
     "output_type": "stream",
     "text": [
      "[I 2024-10-27 09:30:47,150] Trial 3 finished with value: 0.9522222222222222 and parameters: {'lr': 0.0026876147207072864, 'batch_size': 96}. Best is trial 3 with value: 0.9522222222222222.\n"
     ]
    },
    {
     "name": "stdout",
     "output_type": "stream",
     "text": [
      "Epoch [1/5], Contrastive Loss: 2.8968\n",
      "Epoch [2/5], Contrastive Loss: 2.4868\n",
      "Epoch [3/5], Contrastive Loss: 2.4054\n",
      "Epoch [4/5], Contrastive Loss: 2.3514\n",
      "Epoch [5/5], Contrastive Loss: 2.3066\n",
      "Epoch [1/3], Cross Entropy Loss: 2.2620, Accuracy: 30.23%\n",
      "Epoch [2/3], Cross Entropy Loss: 2.1236, Accuracy: 85.14%\n",
      "Epoch [3/3], Cross Entropy Loss: 1.9002, Accuracy: 94.13%\n"
     ]
    },
    {
     "name": "stderr",
     "output_type": "stream",
     "text": [
      "[I 2024-10-27 09:40:46,754] Trial 4 finished with value: 0.9411111111111111 and parameters: {'lr': 0.0002673683054492845, 'batch_size': 96}. Best is trial 3 with value: 0.9522222222222222.\n"
     ]
    },
    {
     "name": "stdout",
     "output_type": "stream",
     "text": [
      "Epoch [1/5], Contrastive Loss: 2.7643\n",
      "Epoch [2/5], Contrastive Loss: 2.2812\n",
      "Epoch [3/5], Contrastive Loss: 2.1596\n",
      "Epoch [4/5], Contrastive Loss: 2.0841\n",
      "Epoch [5/5], Contrastive Loss: 2.0428\n",
      "Epoch [1/3], Cross Entropy Loss: 2.2977, Accuracy: 13.94%\n",
      "Epoch [2/3], Cross Entropy Loss: 2.2781, Accuracy: 22.14%\n",
      "Epoch [3/3], Cross Entropy Loss: 2.2559, Accuracy: 27.55%\n"
     ]
    },
    {
     "name": "stderr",
     "output_type": "stream",
     "text": [
      "[I 2024-10-27 09:50:58,573] Trial 5 finished with value: 0.2991666666666667 and parameters: {'lr': 3.8894279667522475e-05, 'batch_size': 64}. Best is trial 3 with value: 0.9522222222222222.\n"
     ]
    },
    {
     "name": "stdout",
     "output_type": "stream",
     "text": [
      "Epoch [1/5], Contrastive Loss: 1.8764\n",
      "Epoch [2/5], Contrastive Loss: 1.4553\n",
      "Epoch [3/5], Contrastive Loss: 1.3547\n",
      "Epoch [4/5], Contrastive Loss: 1.3025\n",
      "Epoch [5/5], Contrastive Loss: 1.2418\n",
      "Epoch [1/3], Cross Entropy Loss: 2.2831, Accuracy: 25.09%\n",
      "Epoch [2/3], Cross Entropy Loss: 2.2314, Accuracy: 53.68%\n",
      "Epoch [3/3], Cross Entropy Loss: 2.1624, Accuracy: 72.76%\n"
     ]
    },
    {
     "name": "stderr",
     "output_type": "stream",
     "text": [
      "[I 2024-10-27 10:01:11,249] Trial 6 finished with value: 0.7994444444444444 and parameters: {'lr': 4.678682770006793e-05, 'batch_size': 32}. Best is trial 3 with value: 0.9522222222222222.\n"
     ]
    },
    {
     "name": "stdout",
     "output_type": "stream",
     "text": [
      "Epoch [1/5], Contrastive Loss: 1.7699\n",
      "Epoch [2/5], Contrastive Loss: 1.3733\n",
      "Epoch [3/5], Contrastive Loss: 1.2820\n",
      "Epoch [4/5], Contrastive Loss: 1.2239\n",
      "Epoch [5/5], Contrastive Loss: 1.1909\n",
      "Epoch [1/3], Cross Entropy Loss: 2.2600, Accuracy: 23.37%\n",
      "Epoch [2/3], Cross Entropy Loss: 2.0898, Accuracy: 73.87%\n",
      "Epoch [3/3], Cross Entropy Loss: 1.8257, Accuracy: 90.68%\n"
     ]
    },
    {
     "name": "stderr",
     "output_type": "stream",
     "text": [
      "[I 2024-10-27 10:11:21,422] Trial 7 finished with value: 0.9247222222222222 and parameters: {'lr': 0.00011097183671102424, 'batch_size': 32}. Best is trial 3 with value: 0.9522222222222222.\n"
     ]
    },
    {
     "name": "stdout",
     "output_type": "stream",
     "text": [
      "Epoch [1/5], Contrastive Loss: 3.0427\n",
      "Epoch [2/5], Contrastive Loss: 2.5314\n",
      "Epoch [3/5], Contrastive Loss: 2.4165\n",
      "Epoch [4/5], Contrastive Loss: 2.3640\n",
      "Epoch [5/5], Contrastive Loss: 2.3266\n",
      "Epoch [1/3], Cross Entropy Loss: 1.1049, Accuracy: 87.03%\n",
      "Epoch [2/3], Cross Entropy Loss: 0.1185, Accuracy: 97.88%\n",
      "Epoch [3/3], Cross Entropy Loss: 0.0798, Accuracy: 98.14%\n"
     ]
    },
    {
     "name": "stderr",
     "output_type": "stream",
     "text": [
      "[I 2024-10-27 10:20:28,835] Trial 8 finished with value: 0.9766666666666667 and parameters: {'lr': 0.003716598164693335, 'batch_size': 96}. Best is trial 8 with value: 0.9766666666666667.\n"
     ]
    },
    {
     "name": "stdout",
     "output_type": "stream",
     "text": [
      "Epoch [1/5], Contrastive Loss: 2.5089\n",
      "Epoch [2/5], Contrastive Loss: 2.0644\n",
      "Epoch [3/5], Contrastive Loss: 1.9666\n",
      "Epoch [4/5], Contrastive Loss: 1.9230\n",
      "Epoch [5/5], Contrastive Loss: 1.8784\n",
      "Epoch [1/3], Cross Entropy Loss: 0.7519, Accuracy: 93.82%\n",
      "Epoch [2/3], Cross Entropy Loss: 0.0889, Accuracy: 97.97%\n",
      "Epoch [3/3], Cross Entropy Loss: 0.0726, Accuracy: 98.19%\n"
     ]
    },
    {
     "name": "stderr",
     "output_type": "stream",
     "text": [
      "[I 2024-10-27 10:29:54,931] Trial 9 finished with value: 0.9794444444444445 and parameters: {'lr': 0.004225016177751865, 'batch_size': 64}. Best is trial 9 with value: 0.9794444444444445.\n"
     ]
    },
    {
     "name": "stdout",
     "output_type": "stream",
     "text": [
      "Best hyperparameters:  {'lr': 0.004225016177751865, 'batch_size': 64}\n"
     ]
    }
   ],
   "source": [
    "# Run Optuna study\n",
    "study = optuna.create_study(study_name =\"Hyperparameter_Tunning\",direction='maximize')\n",
    "study.optimize(objective, n_trials=10)\n",
    "\n",
    "# Best hyperparameters\n",
    "print(\"Best hyperparameters: \", study.best_params)"
   ]
  },
  {
   "cell_type": "code",
   "execution_count": 7,
   "metadata": {},
   "outputs": [
    {
     "name": "stdout",
     "output_type": "stream",
     "text": [
      "{'lr': 0.004225016177751865, 'batch_size': 64}\n"
     ]
    }
   ],
   "source": [
    "# Use best hyperparameters to train the final model\n",
    "best_params = study.best_params\n",
    "print(best_params)"
   ]
  },
  {
   "cell_type": "code",
   "execution_count": 8,
   "metadata": {},
   "outputs": [
    {
     "name": "stdout",
     "output_type": "stream",
     "text": [
      "Epoch [1/15], Contrastive Loss: 2.1716\n",
      "Epoch [2/15], Contrastive Loss: 1.9295\n",
      "Epoch [3/15], Contrastive Loss: 1.8799\n",
      "Epoch [4/15], Contrastive Loss: 1.8583\n",
      "Epoch [5/15], Contrastive Loss: 1.8420\n",
      "Epoch [6/15], Contrastive Loss: 1.8234\n",
      "Epoch [7/15], Contrastive Loss: 1.8157\n",
      "Epoch [8/15], Contrastive Loss: 1.8057\n",
      "Epoch [9/15], Contrastive Loss: 1.8032\n",
      "Epoch [10/15], Contrastive Loss: 1.7928\n",
      "Epoch [11/15], Contrastive Loss: 1.7910\n",
      "Epoch [12/15], Contrastive Loss: 1.7895\n",
      "Epoch [13/15], Contrastive Loss: 1.7819\n",
      "Epoch [14/15], Contrastive Loss: 1.7777\n",
      "Epoch [15/15], Contrastive Loss: 1.7794\n",
      "Epoch [1/10], Cross Entropy Loss: 0.2607, Accuracy: 96.80%\n",
      "Epoch [2/10], Cross Entropy Loss: 0.0412, Accuracy: 99.02%\n",
      "Epoch [3/10], Cross Entropy Loss: 0.0429, Accuracy: 99.04%\n",
      "Epoch [4/10], Cross Entropy Loss: 0.0395, Accuracy: 99.04%\n",
      "Epoch [5/10], Cross Entropy Loss: 0.0377, Accuracy: 99.11%\n",
      "Epoch [6/10], Cross Entropy Loss: 0.0375, Accuracy: 99.09%\n",
      "Epoch [7/10], Cross Entropy Loss: 0.0369, Accuracy: 99.11%\n",
      "Epoch [8/10], Cross Entropy Loss: 0.0352, Accuracy: 99.16%\n",
      "Epoch [9/10], Cross Entropy Loss: 0.0355, Accuracy: 99.14%\n",
      "Epoch [10/10], Cross Entropy Loss: 0.0350, Accuracy: 99.11%\n"
     ]
    }
   ],
   "source": [
    "# Use best hyperparameters to train the final model\n",
    "train_CNN_loader = DataLoader(train_CNN, batch_size=best_params['batch_size'], shuffle=True)\n",
    "train_MLP_loader = DataLoader(train_MLP, batch_size=best_params['batch_size'], shuffle=True)\n",
    "test_loader = DataLoader(test_data, batch_size=best_params['batch_size'], shuffle=False)\n",
    "\n",
    "# \n",
    "encoder = CNNEncoder().to(device)\n",
    "classifier = MLPClassifier().to(device)\n",
    "optimizer = torch.optim.Adam(list(encoder.parameters()) + list(classifier.parameters()), lr=best_params['lr'])\n",
    "contrastive_loss = SupConLoss().to(device)\n",
    "\n",
    "\n",
    "trainer = ContrastiveTrainer(encoder, classifier, contrastive_loss, optimizer)\n",
    "\n",
    "# Final training and testing\n",
    "trainer.train_contrastive(train_CNN_loader, epochs=15)\n",
    "trainer.train_classifier(train_MLP_loader, epochs=10)"
   ]
  },
  {
   "cell_type": "code",
   "execution_count": 9,
   "metadata": {},
   "outputs": [
    {
     "name": "stdout",
     "output_type": "stream",
     "text": [
      "Test Accuracy: 99.20%\n",
      "Class 0 AUC: 1.0000\n",
      "Class 1 AUC: 1.0000\n",
      "Class 2 AUC: 1.0000\n",
      "Class 3 AUC: 1.0000\n",
      "Class 4 AUC: 0.9999\n",
      "Class 5 AUC: 0.9999\n",
      "Class 6 AUC: 0.9995\n",
      "Class 7 AUC: 0.9999\n",
      "Class 8 AUC: 0.9999\n",
      "Class 9 AUC: 0.9999\n"
     ]
    },
    {
     "data": {
      "image/png": "[encoded data removed]",
      "text/plain": [
       "<Figure size 432x288 with 1 Axes>"
      ]
     },
     "metadata": {
      "needs_background": "light"
     },
     "output_type": "display_data"
    },
    {
     "name": "stdout",
     "output_type": "stream",
     "text": [
      "Overall AUC (macro): 0.9999\n"
     ]
    },
    {
     "data": {
      "image/png": "[encoded data removed]",
      "text/plain": [
       "<Figure size 432x288 with 2 Axes>"
      ]
     },
     "metadata": {
      "needs_background": "light"
     },
     "output_type": "display_data"
    }
   ],
   "source": [
    "#Test the classifier\n",
    "trainer.test_classifier(test_loader)"
   ]
  }
 ],
 "metadata": {
  "kernelspec": {
   "display_name": "Python 3.9.1rc1 64-bit",
   "language": "python",
   "name": "python3"
  },
  "language_info": {
   "codemirror_mode": {
    "name": "ipython",
    "version": 3
   },
   "file_extension": ".py",
   "mimetype": "text/x-python",
   "name": "python",
   "nbconvert_exporter": "python",
   "pygments_lexer": "ipython3",
   "version": "3.9.1rc1"
  },
  "orig_nbformat": 4,
  "vscode": {
   "interpreter": {
    "hash": "98b9776bb1c906ffea5885633daef92fdfff9bdc53a036d784e355cfb10fec4f"
   }
  }
 },
 "nbformat": 4,
 "nbformat_minor": 2
}
